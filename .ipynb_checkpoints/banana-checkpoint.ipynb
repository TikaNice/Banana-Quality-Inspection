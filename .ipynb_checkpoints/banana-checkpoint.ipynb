{
 "cells": [
  {
   "cell_type": "markdown",
   "id": "1dcf53da-2bfb-43b3-a8de-70216b898604",
   "metadata": {},
   "source": [
    "Import the base we need "
   ]
  },
  {
   "cell_type": "code",
   "execution_count": null,
   "id": "238ac8e6-0850-4f03-8e31-b4601293a375",
   "metadata": {},
   "outputs": [],
   "source": [
    "import tensorflow as tf\n",
    "from tensorflow.keras.preprocessing.image import ImageDataGenerator\n",
    "import matplotlib.pyplot as plt\n",
    "import os"
   ]
  },
  {
   "cell_type": "markdown",
   "id": "cd60e04f-fb19-4b99-ab00-01726dac4c44",
   "metadata": {},
   "source": [
    "Load image"
   ]
  },
  {
   "cell_type": "code",
   "execution_count": null,
   "id": "067f200a-62ef-45a1-808b-d92eb849dd73",
   "metadata": {},
   "outputs": [],
   "source": [
    "base_direction = \"/Users/jimpengdemg/Documents/我的项目/Qhack/2025/dataset\"\n",
    "\n",
    "immature_banana = os.path.join(base_direction,\"Immature\")\n",
    "\n",
    "\n",
    "\n"
   ]
  },
  {
   "cell_type": "code",
   "execution_count": null,
   "id": "38c5fa4a-5e89-416b-9c33-c1cf4e4b09af",
   "metadata": {},
   "outputs": [],
   "source": []
  },
  {
   "cell_type": "code",
   "execution_count": null,
   "id": "b3831cdc-4730-4a62-84bb-21b624175286",
   "metadata": {},
   "outputs": [],
   "source": []
  },
  {
   "cell_type": "code",
   "execution_count": null,
   "id": "9fcedd49-81cf-4c9e-a59e-f002347aa496",
   "metadata": {},
   "outputs": [],
   "source": []
  },
  {
   "cell_type": "code",
   "execution_count": null,
   "id": "85b671df-651f-4607-bebf-fa6f4b8529af",
   "metadata": {},
   "outputs": [],
   "source": []
  },
  {
   "cell_type": "code",
   "execution_count": null,
   "id": "3f38081d-c9ae-4a9a-8f94-b5835e58c070",
   "metadata": {},
   "outputs": [],
   "source": []
  }
 ],
 "metadata": {
  "kernelspec": {
   "display_name": "Python 3 (ipykernel)",
   "language": "python",
   "name": "python3"
  },
  "language_info": {
   "codemirror_mode": {
    "name": "ipython",
    "version": 3
   },
   "file_extension": ".py",
   "mimetype": "text/x-python",
   "name": "python",
   "nbconvert_exporter": "python",
   "pygments_lexer": "ipython3",
   "version": "3.12.4"
  }
 },
 "nbformat": 4,
 "nbformat_minor": 5
}
